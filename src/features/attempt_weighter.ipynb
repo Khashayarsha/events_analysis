{
 "cells": [
  {
   "cell_type": "markdown",
   "metadata": {},
   "source": [
    "Omitting the league that we will use for GAS-model. "
   ]
  },
  {
   "cell_type": "code",
   "execution_count": 1044,
   "metadata": {},
   "outputs": [
    {
     "name": "stdout",
     "output_type": "stream",
     "text": [
      "Getting dictionaries to analyse events.csv\n"
     ]
    }
   ],
   "source": [
    "import os\n",
    "import sys\n",
    "import pandas as pd\n",
    "import numpy as np\n",
    "import create_dicts\n",
    "\n",
    "\n",
    "code_path = os.getcwd()\n",
    "data_path = \"C:/Users/XHK/Desktop/thesis_code/events_analysis/data/raw/kaggle\"\n",
    "\n",
    "event_type1, event_type2, side, shot_place, shot_outcome, location, \\\n",
    "    bodypart, assist_method, situation = create_dicts.get_dictionaries()\n",
    "\n",
    "events_original = pd.read_csv('/'.join([data_path, \"events.csv\"]))\n",
    "ginf = pd.read_csv('/'.join([data_path, \"ginf.csv\"]))\n",
    "\n",
    "events_columns = ['id_odsp', 'id_event', 'sort_order', 'time', 'text', 'event_type',\n",
    "                  'event_type2', 'side', 'event_team', 'opponent', 'player', 'player2',\n",
    "                  'player_in', 'player_out', 'shot_place', 'shot_outcome', 'is_goal',\n",
    "                  'location', 'bodypart', 'assist_method', 'situation', 'fast_break']\n",
    "\n",
    "ginf_columns = ['id_odsp', 'link_odsp', 'adv_stats', 'date', 'league', 'season',\n",
    "                'country', 'ht', 'at', 'fthg', 'ftag', 'odd_h', 'odd_d', 'odd_a',\n",
    "                'odd_over', 'odd_under', 'odd_bts', 'odd_bts_n']\n",
    "\n",
    "\n",
    "def exempt_a_league(matches, events, exempted_league):\n",
    "    # exempts a league from the dataset\n",
    "    # returns dataframe of matches which have adv_stats available\n",
    "    # returns dataframe of events for those matches\n",
    "    matches = matches[(matches.adv_stats == True) &\n",
    "                      (matches.league != exempted_league)]\n",
    "    events = events.loc[events.id_odsp.isin(matches.id_odsp)]\n",
    "\n",
    "    return matches.copy(), events.copy()\n",
    "\n",
    "\n",
    "\n",
    "matches, events = ginf.copy(), events_original.copy()\n",
    "\n"
   ]
  },
  {
   "cell_type": "code",
   "execution_count": 1045,
   "metadata": {},
   "outputs": [
    {
     "data": {
      "text/html": [
       "<div>\n",
       "<style scoped>\n",
       "    .dataframe tbody tr th:only-of-type {\n",
       "        vertical-align: middle;\n",
       "    }\n",
       "\n",
       "    .dataframe tbody tr th {\n",
       "        vertical-align: top;\n",
       "    }\n",
       "\n",
       "    .dataframe thead th {\n",
       "        text-align: right;\n",
       "    }\n",
       "</style>\n",
       "<table border=\"1\" class=\"dataframe\">\n",
       "  <thead>\n",
       "    <tr style=\"text-align: right;\">\n",
       "      <th></th>\n",
       "      <th>id_odsp</th>\n",
       "      <th>link_odsp</th>\n",
       "      <th>adv_stats</th>\n",
       "      <th>date</th>\n",
       "      <th>league</th>\n",
       "      <th>season</th>\n",
       "      <th>country</th>\n",
       "      <th>ht</th>\n",
       "      <th>at</th>\n",
       "      <th>fthg</th>\n",
       "      <th>ftag</th>\n",
       "      <th>odd_h</th>\n",
       "      <th>odd_d</th>\n",
       "      <th>odd_a</th>\n",
       "      <th>odd_over</th>\n",
       "      <th>odd_under</th>\n",
       "      <th>odd_bts</th>\n",
       "      <th>odd_bts_n</th>\n",
       "    </tr>\n",
       "  </thead>\n",
       "  <tbody>\n",
       "    <tr>\n",
       "      <th>0</th>\n",
       "      <td>UFot0hit/</td>\n",
       "      <td>/soccer/germany/bundesliga-2011-2012/dortmund-...</td>\n",
       "      <td>True</td>\n",
       "      <td>2011-08-05</td>\n",
       "      <td>D1</td>\n",
       "      <td>2012</td>\n",
       "      <td>germany</td>\n",
       "      <td>Borussia Dortmund</td>\n",
       "      <td>Hamburg SV</td>\n",
       "      <td>3</td>\n",
       "      <td>1</td>\n",
       "      <td>1.56</td>\n",
       "      <td>4.41</td>\n",
       "      <td>7.42</td>\n",
       "      <td>NaN</td>\n",
       "      <td>NaN</td>\n",
       "      <td>NaN</td>\n",
       "      <td>NaN</td>\n",
       "    </tr>\n",
       "    <tr>\n",
       "      <th>1</th>\n",
       "      <td>Aw5DflLH/</td>\n",
       "      <td>/soccer/germany/bundesliga-2011-2012/augsburg-...</td>\n",
       "      <td>True</td>\n",
       "      <td>2011-08-06</td>\n",
       "      <td>D1</td>\n",
       "      <td>2012</td>\n",
       "      <td>germany</td>\n",
       "      <td>FC Augsburg</td>\n",
       "      <td>SC Freiburg</td>\n",
       "      <td>2</td>\n",
       "      <td>2</td>\n",
       "      <td>2.36</td>\n",
       "      <td>3.60</td>\n",
       "      <td>3.40</td>\n",
       "      <td>NaN</td>\n",
       "      <td>NaN</td>\n",
       "      <td>NaN</td>\n",
       "      <td>NaN</td>\n",
       "    </tr>\n",
       "    <tr>\n",
       "      <th>2</th>\n",
       "      <td>bkjpaC6n/</td>\n",
       "      <td>/soccer/germany/bundesliga-2011-2012/werder-br...</td>\n",
       "      <td>True</td>\n",
       "      <td>2011-08-06</td>\n",
       "      <td>D1</td>\n",
       "      <td>2012</td>\n",
       "      <td>germany</td>\n",
       "      <td>Werder Bremen</td>\n",
       "      <td>Kaiserslautern</td>\n",
       "      <td>2</td>\n",
       "      <td>0</td>\n",
       "      <td>1.83</td>\n",
       "      <td>4.20</td>\n",
       "      <td>4.80</td>\n",
       "      <td>NaN</td>\n",
       "      <td>NaN</td>\n",
       "      <td>NaN</td>\n",
       "      <td>NaN</td>\n",
       "    </tr>\n",
       "    <tr>\n",
       "      <th>3</th>\n",
       "      <td>CzPV312a/</td>\n",
       "      <td>/soccer/france/ligue-1-2011-2012/paris-sg-lori...</td>\n",
       "      <td>True</td>\n",
       "      <td>2011-08-06</td>\n",
       "      <td>F1</td>\n",
       "      <td>2012</td>\n",
       "      <td>france</td>\n",
       "      <td>Paris Saint-Germain</td>\n",
       "      <td>Lorient</td>\n",
       "      <td>0</td>\n",
       "      <td>1</td>\n",
       "      <td>1.55</td>\n",
       "      <td>4.50</td>\n",
       "      <td>9.40</td>\n",
       "      <td>NaN</td>\n",
       "      <td>NaN</td>\n",
       "      <td>NaN</td>\n",
       "      <td>NaN</td>\n",
       "    </tr>\n",
       "    <tr>\n",
       "      <th>4</th>\n",
       "      <td>GUOdmtII/</td>\n",
       "      <td>/soccer/france/ligue-1-2011-2012/caen-valencie...</td>\n",
       "      <td>True</td>\n",
       "      <td>2011-08-06</td>\n",
       "      <td>F1</td>\n",
       "      <td>2012</td>\n",
       "      <td>france</td>\n",
       "      <td>Caen</td>\n",
       "      <td>Valenciennes</td>\n",
       "      <td>1</td>\n",
       "      <td>0</td>\n",
       "      <td>2.50</td>\n",
       "      <td>3.40</td>\n",
       "      <td>3.45</td>\n",
       "      <td>NaN</td>\n",
       "      <td>NaN</td>\n",
       "      <td>NaN</td>\n",
       "      <td>NaN</td>\n",
       "    </tr>\n",
       "  </tbody>\n",
       "</table>\n",
       "</div>"
      ],
      "text/plain": [
       "     id_odsp                                          link_odsp  adv_stats  \\\n",
       "0  UFot0hit/  /soccer/germany/bundesliga-2011-2012/dortmund-...       True   \n",
       "1  Aw5DflLH/  /soccer/germany/bundesliga-2011-2012/augsburg-...       True   \n",
       "2  bkjpaC6n/  /soccer/germany/bundesliga-2011-2012/werder-br...       True   \n",
       "3  CzPV312a/  /soccer/france/ligue-1-2011-2012/paris-sg-lori...       True   \n",
       "4  GUOdmtII/  /soccer/france/ligue-1-2011-2012/caen-valencie...       True   \n",
       "\n",
       "         date league  season  country                   ht              at  \\\n",
       "0  2011-08-05     D1    2012  germany    Borussia Dortmund      Hamburg SV   \n",
       "1  2011-08-06     D1    2012  germany          FC Augsburg     SC Freiburg   \n",
       "2  2011-08-06     D1    2012  germany        Werder Bremen  Kaiserslautern   \n",
       "3  2011-08-06     F1    2012   france  Paris Saint-Germain         Lorient   \n",
       "4  2011-08-06     F1    2012   france                 Caen    Valenciennes   \n",
       "\n",
       "   fthg  ftag  odd_h  odd_d  odd_a  odd_over  odd_under  odd_bts  odd_bts_n  \n",
       "0     3     1   1.56   4.41   7.42       NaN        NaN      NaN        NaN  \n",
       "1     2     2   2.36   3.60   3.40       NaN        NaN      NaN        NaN  \n",
       "2     2     0   1.83   4.20   4.80       NaN        NaN      NaN        NaN  \n",
       "3     0     1   1.55   4.50   9.40       NaN        NaN      NaN        NaN  \n",
       "4     1     0   2.50   3.40   3.45       NaN        NaN      NaN        NaN  "
      ]
     },
     "execution_count": 1045,
     "metadata": {},
     "output_type": "execute_result"
    }
   ],
   "source": [
    "matches.head()"
   ]
  },
  {
   "cell_type": "markdown",
   "metadata": {},
   "source": [
    "Omitting 'own goals' from goal stats."
   ]
  },
  {
   "cell_type": "code",
   "execution_count": 1046,
   "metadata": {},
   "outputs": [],
   "source": [
    "events = events[events['event_type2'] !=15]\n",
    "events = events[events['event_type'] == 1]\n"
   ]
  },
  {
   "cell_type": "code",
   "execution_count": 1047,
   "metadata": {},
   "outputs": [],
   "source": [
    "def rename_categorical_variable_outcomes(events):\n",
    "    events.event_type = events.event_type.apply(lambda x: event_type1.get(x))\n",
    "    events.side = events.side.apply(lambda x: side.get(x))\n",
    "    events.shot_place = events.shot_place.apply(lambda x: shot_place.get(x))\n",
    "    events.shot_outcome = events.shot_outcome.apply(lambda x: shot_outcome.get(x))\n",
    "    events.location = events.location.apply(lambda x: location.get(x))\n",
    "    events.bodypart = events.bodypart.apply(lambda x: bodypart.get(x))\n",
    "    events.assist_method = events.assist_method.apply(lambda x: assist_method.get(x))\n",
    "    events.situation = events.situation.apply(  lambda x: situation.get(x))\n",
    "    return events\n",
    "\n",
    "\n",
    "events = events.drop(['text'], axis='columns')\n"
   ]
  },
  {
   "cell_type": "code",
   "execution_count": 1048,
   "metadata": {},
   "outputs": [],
   "source": [
    "#events.to_csv('attempt_weighter_data.csv')\n",
    "events = rename_categorical_variable_outcomes(events)\n",
    "#events.to_csv('attempt_weighter_data_named_text.csv')\n"
   ]
  },
  {
   "cell_type": "markdown",
   "metadata": {},
   "source": [
    "Create dataset with dummy-columns for Python-based analysis (above was for SPSS which handles that internally)"
   ]
  },
  {
   "cell_type": "code",
   "execution_count": 1049,
   "metadata": {},
   "outputs": [
    {
     "data": {
      "text/html": [
       "<div>\n",
       "<style scoped>\n",
       "    .dataframe tbody tr th:only-of-type {\n",
       "        vertical-align: middle;\n",
       "    }\n",
       "\n",
       "    .dataframe tbody tr th {\n",
       "        vertical-align: top;\n",
       "    }\n",
       "\n",
       "    .dataframe thead th {\n",
       "        text-align: right;\n",
       "    }\n",
       "</style>\n",
       "<table border=\"1\" class=\"dataframe\">\n",
       "  <thead>\n",
       "    <tr style=\"text-align: right;\">\n",
       "      <th></th>\n",
       "      <th>time</th>\n",
       "      <th>side_Home</th>\n",
       "      <th>location_Difficult angle and long range</th>\n",
       "      <th>location_Difficult angle on the left</th>\n",
       "      <th>location_Difficult angle on the right</th>\n",
       "      <th>location_Left side of the box</th>\n",
       "      <th>location_Left side of the six yard box</th>\n",
       "      <th>location_Long range</th>\n",
       "      <th>location_More than 35 yards</th>\n",
       "      <th>location_More than 40 yards</th>\n",
       "      <th>...</th>\n",
       "      <th>location_Very close range</th>\n",
       "      <th>bodypart_left foot</th>\n",
       "      <th>bodypart_right foot</th>\n",
       "      <th>assist_method_Headed pass</th>\n",
       "      <th>assist_method_None</th>\n",
       "      <th>assist_method_Pass</th>\n",
       "      <th>assist_method_Through ball</th>\n",
       "      <th>situation_Free kick</th>\n",
       "      <th>situation_Open play</th>\n",
       "      <th>situation_Set piece</th>\n",
       "    </tr>\n",
       "  </thead>\n",
       "  <tbody>\n",
       "    <tr>\n",
       "      <th>374</th>\n",
       "      <td>8</td>\n",
       "      <td>0</td>\n",
       "      <td>0</td>\n",
       "      <td>0</td>\n",
       "      <td>0</td>\n",
       "      <td>0</td>\n",
       "      <td>0</td>\n",
       "      <td>0</td>\n",
       "      <td>0</td>\n",
       "      <td>0</td>\n",
       "      <td>...</td>\n",
       "      <td>0</td>\n",
       "      <td>0</td>\n",
       "      <td>1</td>\n",
       "      <td>0</td>\n",
       "      <td>0</td>\n",
       "      <td>1</td>\n",
       "      <td>0</td>\n",
       "      <td>0</td>\n",
       "      <td>1</td>\n",
       "      <td>0</td>\n",
       "    </tr>\n",
       "    <tr>\n",
       "      <th>378</th>\n",
       "      <td>11</td>\n",
       "      <td>0</td>\n",
       "      <td>0</td>\n",
       "      <td>0</td>\n",
       "      <td>0</td>\n",
       "      <td>0</td>\n",
       "      <td>1</td>\n",
       "      <td>0</td>\n",
       "      <td>0</td>\n",
       "      <td>0</td>\n",
       "      <td>...</td>\n",
       "      <td>0</td>\n",
       "      <td>1</td>\n",
       "      <td>0</td>\n",
       "      <td>0</td>\n",
       "      <td>0</td>\n",
       "      <td>0</td>\n",
       "      <td>0</td>\n",
       "      <td>0</td>\n",
       "      <td>1</td>\n",
       "      <td>0</td>\n",
       "    </tr>\n",
       "    <tr>\n",
       "      <th>379</th>\n",
       "      <td>11</td>\n",
       "      <td>0</td>\n",
       "      <td>0</td>\n",
       "      <td>0</td>\n",
       "      <td>0</td>\n",
       "      <td>0</td>\n",
       "      <td>0</td>\n",
       "      <td>0</td>\n",
       "      <td>0</td>\n",
       "      <td>0</td>\n",
       "      <td>...</td>\n",
       "      <td>0</td>\n",
       "      <td>0</td>\n",
       "      <td>1</td>\n",
       "      <td>0</td>\n",
       "      <td>0</td>\n",
       "      <td>1</td>\n",
       "      <td>0</td>\n",
       "      <td>0</td>\n",
       "      <td>1</td>\n",
       "      <td>0</td>\n",
       "    </tr>\n",
       "    <tr>\n",
       "      <th>384</th>\n",
       "      <td>15</td>\n",
       "      <td>1</td>\n",
       "      <td>0</td>\n",
       "      <td>0</td>\n",
       "      <td>0</td>\n",
       "      <td>0</td>\n",
       "      <td>0</td>\n",
       "      <td>0</td>\n",
       "      <td>0</td>\n",
       "      <td>0</td>\n",
       "      <td>...</td>\n",
       "      <td>0</td>\n",
       "      <td>0</td>\n",
       "      <td>1</td>\n",
       "      <td>1</td>\n",
       "      <td>0</td>\n",
       "      <td>0</td>\n",
       "      <td>0</td>\n",
       "      <td>0</td>\n",
       "      <td>1</td>\n",
       "      <td>0</td>\n",
       "    </tr>\n",
       "    <tr>\n",
       "      <th>395</th>\n",
       "      <td>26</td>\n",
       "      <td>1</td>\n",
       "      <td>0</td>\n",
       "      <td>0</td>\n",
       "      <td>0</td>\n",
       "      <td>0</td>\n",
       "      <td>0</td>\n",
       "      <td>0</td>\n",
       "      <td>0</td>\n",
       "      <td>0</td>\n",
       "      <td>...</td>\n",
       "      <td>0</td>\n",
       "      <td>0</td>\n",
       "      <td>0</td>\n",
       "      <td>0</td>\n",
       "      <td>0</td>\n",
       "      <td>0</td>\n",
       "      <td>0</td>\n",
       "      <td>0</td>\n",
       "      <td>1</td>\n",
       "      <td>0</td>\n",
       "    </tr>\n",
       "  </tbody>\n",
       "</table>\n",
       "<p>5 rows × 25 columns</p>\n",
       "</div>"
      ],
      "text/plain": [
       "     time  side_Home  location_Difficult angle and long range  \\\n",
       "374     8          0                                        0   \n",
       "378    11          0                                        0   \n",
       "379    11          0                                        0   \n",
       "384    15          1                                        0   \n",
       "395    26          1                                        0   \n",
       "\n",
       "     location_Difficult angle on the left  \\\n",
       "374                                     0   \n",
       "378                                     0   \n",
       "379                                     0   \n",
       "384                                     0   \n",
       "395                                     0   \n",
       "\n",
       "     location_Difficult angle on the right  location_Left side of the box  \\\n",
       "374                                      0                              0   \n",
       "378                                      0                              0   \n",
       "379                                      0                              0   \n",
       "384                                      0                              0   \n",
       "395                                      0                              0   \n",
       "\n",
       "     location_Left side of the six yard box  location_Long range  \\\n",
       "374                                       0                    0   \n",
       "378                                       1                    0   \n",
       "379                                       0                    0   \n",
       "384                                       0                    0   \n",
       "395                                       0                    0   \n",
       "\n",
       "     location_More than 35 yards  location_More than 40 yards  ...  \\\n",
       "374                            0                            0  ...   \n",
       "378                            0                            0  ...   \n",
       "379                            0                            0  ...   \n",
       "384                            0                            0  ...   \n",
       "395                            0                            0  ...   \n",
       "\n",
       "     location_Very close range  bodypart_left foot  bodypart_right foot  \\\n",
       "374                          0                   0                    1   \n",
       "378                          0                   1                    0   \n",
       "379                          0                   0                    1   \n",
       "384                          0                   0                    1   \n",
       "395                          0                   0                    0   \n",
       "\n",
       "     assist_method_Headed pass  assist_method_None  assist_method_Pass  \\\n",
       "374                          0                   0                   1   \n",
       "378                          0                   0                   0   \n",
       "379                          0                   0                   1   \n",
       "384                          1                   0                   0   \n",
       "395                          0                   0                   0   \n",
       "\n",
       "     assist_method_Through ball  situation_Free kick  situation_Open play  \\\n",
       "374                           0                    0                    1   \n",
       "378                           0                    0                    1   \n",
       "379                           0                    0                    1   \n",
       "384                           0                    0                    1   \n",
       "395                           0                    0                    1   \n",
       "\n",
       "     situation_Set piece  \n",
       "374                    0  \n",
       "378                    0  \n",
       "379                    0  \n",
       "384                    0  \n",
       "395                    0  \n",
       "\n",
       "[5 rows x 25 columns]"
      ]
     },
     "execution_count": 1049,
     "metadata": {},
     "output_type": "execute_result"
    }
   ],
   "source": [
    "french_matches = matches[(matches.adv_stats == True) &\n",
    "                  (matches.league == 'F1')]\n",
    "french_events = events.loc[events.id_odsp.isin(french_matches.id_odsp)]\n",
    "\n",
    "matches, events = exempt_a_league(ginf.copy(), events.copy(), exempted_league='F1')\n",
    "X_columns = 'time side location bodypart assist_method situation'.split()\n",
    "X_cat_columns = 'side location bodypart assist_method situation'.split()\n",
    "#pd.get_dummies()\n",
    "y = events.is_goal.copy()\n",
    "X = events[X_columns].copy()\n",
    "\n",
    "X = pd.get_dummies(X[X_cat_columns], drop_first=True)\n",
    "X = pd.concat((events.time.copy(), X), axis='columns')\n",
    "\n",
    "#creating test-set for French league: \n",
    "y_fr = french_events.is_goal.copy()\n",
    "X_fr = french_events[X_columns].copy()\n",
    "X_fr = pd.get_dummies(X_fr[X_cat_columns], drop_first=True)\n",
    "X_fr = pd.concat((french_events.time.copy(), X_fr), axis='columns')\n",
    "X_fr.head()\n",
    "\n"
   ]
  },
  {
   "cell_type": "code",
   "execution_count": 1050,
   "metadata": {},
   "outputs": [
    {
     "data": {
      "text/plain": [
       "48827"
      ]
     },
     "execution_count": 1050,
     "metadata": {},
     "output_type": "execute_result"
    }
   ],
   "source": [
    "len(y_fr)"
   ]
  },
  {
   "cell_type": "code",
   "execution_count": 1051,
   "metadata": {},
   "outputs": [],
   "source": [
    "# X = pd.get_dummies(X[X_cat_columns], drop_first=True)\n",
    "# X = pd.concat((events.time.copy(), X), axis = 'columns')\n",
    "X.head()\n",
    "import sklearn\n",
    "from sklearn.model_selection import train_test_split\n",
    "\n",
    "train, test, train_labels, test_labels = train_test_split(X,y, test_size = 0.33, random_state = 20)\n",
    "\n"
   ]
  },
  {
   "cell_type": "code",
   "execution_count": null,
   "metadata": {},
   "outputs": [],
   "source": []
  },
  {
   "cell_type": "code",
   "execution_count": 1052,
   "metadata": {},
   "outputs": [
    {
     "data": {
      "text/html": [
       "<div>\n",
       "<style scoped>\n",
       "    .dataframe tbody tr th:only-of-type {\n",
       "        vertical-align: middle;\n",
       "    }\n",
       "\n",
       "    .dataframe tbody tr th {\n",
       "        vertical-align: top;\n",
       "    }\n",
       "\n",
       "    .dataframe thead th {\n",
       "        text-align: right;\n",
       "    }\n",
       "</style>\n",
       "<table border=\"1\" class=\"dataframe\">\n",
       "  <thead>\n",
       "    <tr style=\"text-align: right;\">\n",
       "      <th></th>\n",
       "      <th>time</th>\n",
       "      <th>side_Home</th>\n",
       "      <th>location_Difficult angle and long range</th>\n",
       "      <th>location_Difficult angle on the left</th>\n",
       "      <th>location_Difficult angle on the right</th>\n",
       "      <th>location_Left side of the box</th>\n",
       "      <th>location_Left side of the six yard box</th>\n",
       "      <th>location_Long range</th>\n",
       "      <th>location_More than 35 yards</th>\n",
       "      <th>location_More than 40 yards</th>\n",
       "      <th>...</th>\n",
       "      <th>location_Very close range</th>\n",
       "      <th>bodypart_left foot</th>\n",
       "      <th>bodypart_right foot</th>\n",
       "      <th>assist_method_Headed pass</th>\n",
       "      <th>assist_method_None</th>\n",
       "      <th>assist_method_Pass</th>\n",
       "      <th>assist_method_Through ball</th>\n",
       "      <th>situation_Free kick</th>\n",
       "      <th>situation_Open play</th>\n",
       "      <th>situation_Set piece</th>\n",
       "    </tr>\n",
       "  </thead>\n",
       "  <tbody>\n",
       "    <tr>\n",
       "      <th>0</th>\n",
       "      <td>2</td>\n",
       "      <td>0</td>\n",
       "      <td>0</td>\n",
       "      <td>0</td>\n",
       "      <td>0</td>\n",
       "      <td>1</td>\n",
       "      <td>0</td>\n",
       "      <td>0</td>\n",
       "      <td>0</td>\n",
       "      <td>0</td>\n",
       "      <td>...</td>\n",
       "      <td>0</td>\n",
       "      <td>1</td>\n",
       "      <td>0</td>\n",
       "      <td>0</td>\n",
       "      <td>0</td>\n",
       "      <td>1</td>\n",
       "      <td>0</td>\n",
       "      <td>0</td>\n",
       "      <td>1</td>\n",
       "      <td>0</td>\n",
       "    </tr>\n",
       "    <tr>\n",
       "      <th>11</th>\n",
       "      <td>14</td>\n",
       "      <td>1</td>\n",
       "      <td>0</td>\n",
       "      <td>0</td>\n",
       "      <td>0</td>\n",
       "      <td>0</td>\n",
       "      <td>0</td>\n",
       "      <td>0</td>\n",
       "      <td>0</td>\n",
       "      <td>0</td>\n",
       "      <td>...</td>\n",
       "      <td>0</td>\n",
       "      <td>0</td>\n",
       "      <td>1</td>\n",
       "      <td>0</td>\n",
       "      <td>0</td>\n",
       "      <td>1</td>\n",
       "      <td>0</td>\n",
       "      <td>0</td>\n",
       "      <td>1</td>\n",
       "      <td>0</td>\n",
       "    </tr>\n",
       "    <tr>\n",
       "      <th>13</th>\n",
       "      <td>17</td>\n",
       "      <td>1</td>\n",
       "      <td>0</td>\n",
       "      <td>0</td>\n",
       "      <td>0</td>\n",
       "      <td>1</td>\n",
       "      <td>0</td>\n",
       "      <td>0</td>\n",
       "      <td>0</td>\n",
       "      <td>0</td>\n",
       "      <td>...</td>\n",
       "      <td>0</td>\n",
       "      <td>1</td>\n",
       "      <td>0</td>\n",
       "      <td>0</td>\n",
       "      <td>0</td>\n",
       "      <td>1</td>\n",
       "      <td>0</td>\n",
       "      <td>0</td>\n",
       "      <td>1</td>\n",
       "      <td>0</td>\n",
       "    </tr>\n",
       "    <tr>\n",
       "      <th>14</th>\n",
       "      <td>19</td>\n",
       "      <td>1</td>\n",
       "      <td>0</td>\n",
       "      <td>0</td>\n",
       "      <td>0</td>\n",
       "      <td>0</td>\n",
       "      <td>0</td>\n",
       "      <td>0</td>\n",
       "      <td>0</td>\n",
       "      <td>0</td>\n",
       "      <td>...</td>\n",
       "      <td>0</td>\n",
       "      <td>0</td>\n",
       "      <td>1</td>\n",
       "      <td>0</td>\n",
       "      <td>1</td>\n",
       "      <td>0</td>\n",
       "      <td>0</td>\n",
       "      <td>0</td>\n",
       "      <td>1</td>\n",
       "      <td>0</td>\n",
       "    </tr>\n",
       "    <tr>\n",
       "      <th>17</th>\n",
       "      <td>20</td>\n",
       "      <td>0</td>\n",
       "      <td>0</td>\n",
       "      <td>0</td>\n",
       "      <td>0</td>\n",
       "      <td>0</td>\n",
       "      <td>0</td>\n",
       "      <td>0</td>\n",
       "      <td>0</td>\n",
       "      <td>0</td>\n",
       "      <td>...</td>\n",
       "      <td>0</td>\n",
       "      <td>0</td>\n",
       "      <td>1</td>\n",
       "      <td>0</td>\n",
       "      <td>1</td>\n",
       "      <td>0</td>\n",
       "      <td>0</td>\n",
       "      <td>0</td>\n",
       "      <td>1</td>\n",
       "      <td>0</td>\n",
       "    </tr>\n",
       "    <tr>\n",
       "      <th>...</th>\n",
       "      <td>...</td>\n",
       "      <td>...</td>\n",
       "      <td>...</td>\n",
       "      <td>...</td>\n",
       "      <td>...</td>\n",
       "      <td>...</td>\n",
       "      <td>...</td>\n",
       "      <td>...</td>\n",
       "      <td>...</td>\n",
       "      <td>...</td>\n",
       "      <td>...</td>\n",
       "      <td>...</td>\n",
       "      <td>...</td>\n",
       "      <td>...</td>\n",
       "      <td>...</td>\n",
       "      <td>...</td>\n",
       "      <td>...</td>\n",
       "      <td>...</td>\n",
       "      <td>...</td>\n",
       "      <td>...</td>\n",
       "      <td>...</td>\n",
       "    </tr>\n",
       "    <tr>\n",
       "      <th>940983</th>\n",
       "      <td>81</td>\n",
       "      <td>1</td>\n",
       "      <td>0</td>\n",
       "      <td>0</td>\n",
       "      <td>0</td>\n",
       "      <td>0</td>\n",
       "      <td>0</td>\n",
       "      <td>0</td>\n",
       "      <td>0</td>\n",
       "      <td>0</td>\n",
       "      <td>...</td>\n",
       "      <td>0</td>\n",
       "      <td>0</td>\n",
       "      <td>1</td>\n",
       "      <td>0</td>\n",
       "      <td>1</td>\n",
       "      <td>0</td>\n",
       "      <td>0</td>\n",
       "      <td>0</td>\n",
       "      <td>1</td>\n",
       "      <td>0</td>\n",
       "    </tr>\n",
       "    <tr>\n",
       "      <th>940991</th>\n",
       "      <td>84</td>\n",
       "      <td>1</td>\n",
       "      <td>0</td>\n",
       "      <td>0</td>\n",
       "      <td>0</td>\n",
       "      <td>0</td>\n",
       "      <td>0</td>\n",
       "      <td>0</td>\n",
       "      <td>0</td>\n",
       "      <td>0</td>\n",
       "      <td>...</td>\n",
       "      <td>0</td>\n",
       "      <td>0</td>\n",
       "      <td>1</td>\n",
       "      <td>0</td>\n",
       "      <td>0</td>\n",
       "      <td>1</td>\n",
       "      <td>0</td>\n",
       "      <td>0</td>\n",
       "      <td>1</td>\n",
       "      <td>0</td>\n",
       "    </tr>\n",
       "    <tr>\n",
       "      <th>940992</th>\n",
       "      <td>86</td>\n",
       "      <td>1</td>\n",
       "      <td>0</td>\n",
       "      <td>0</td>\n",
       "      <td>0</td>\n",
       "      <td>1</td>\n",
       "      <td>0</td>\n",
       "      <td>0</td>\n",
       "      <td>0</td>\n",
       "      <td>0</td>\n",
       "      <td>...</td>\n",
       "      <td>0</td>\n",
       "      <td>0</td>\n",
       "      <td>1</td>\n",
       "      <td>0</td>\n",
       "      <td>0</td>\n",
       "      <td>1</td>\n",
       "      <td>0</td>\n",
       "      <td>0</td>\n",
       "      <td>1</td>\n",
       "      <td>0</td>\n",
       "    </tr>\n",
       "    <tr>\n",
       "      <th>940993</th>\n",
       "      <td>87</td>\n",
       "      <td>0</td>\n",
       "      <td>0</td>\n",
       "      <td>0</td>\n",
       "      <td>0</td>\n",
       "      <td>0</td>\n",
       "      <td>0</td>\n",
       "      <td>0</td>\n",
       "      <td>0</td>\n",
       "      <td>0</td>\n",
       "      <td>...</td>\n",
       "      <td>0</td>\n",
       "      <td>0</td>\n",
       "      <td>1</td>\n",
       "      <td>0</td>\n",
       "      <td>0</td>\n",
       "      <td>1</td>\n",
       "      <td>0</td>\n",
       "      <td>0</td>\n",
       "      <td>1</td>\n",
       "      <td>0</td>\n",
       "    </tr>\n",
       "    <tr>\n",
       "      <th>941006</th>\n",
       "      <td>93</td>\n",
       "      <td>0</td>\n",
       "      <td>0</td>\n",
       "      <td>0</td>\n",
       "      <td>0</td>\n",
       "      <td>1</td>\n",
       "      <td>0</td>\n",
       "      <td>0</td>\n",
       "      <td>0</td>\n",
       "      <td>0</td>\n",
       "      <td>...</td>\n",
       "      <td>0</td>\n",
       "      <td>0</td>\n",
       "      <td>1</td>\n",
       "      <td>0</td>\n",
       "      <td>0</td>\n",
       "      <td>1</td>\n",
       "      <td>0</td>\n",
       "      <td>0</td>\n",
       "      <td>0</td>\n",
       "      <td>0</td>\n",
       "    </tr>\n",
       "  </tbody>\n",
       "</table>\n",
       "<p>179607 rows × 25 columns</p>\n",
       "</div>"
      ],
      "text/plain": [
       "        time  side_Home  location_Difficult angle and long range  \\\n",
       "0          2          0                                        0   \n",
       "11        14          1                                        0   \n",
       "13        17          1                                        0   \n",
       "14        19          1                                        0   \n",
       "17        20          0                                        0   \n",
       "...      ...        ...                                      ...   \n",
       "940983    81          1                                        0   \n",
       "940991    84          1                                        0   \n",
       "940992    86          1                                        0   \n",
       "940993    87          0                                        0   \n",
       "941006    93          0                                        0   \n",
       "\n",
       "        location_Difficult angle on the left  \\\n",
       "0                                          0   \n",
       "11                                         0   \n",
       "13                                         0   \n",
       "14                                         0   \n",
       "17                                         0   \n",
       "...                                      ...   \n",
       "940983                                     0   \n",
       "940991                                     0   \n",
       "940992                                     0   \n",
       "940993                                     0   \n",
       "941006                                     0   \n",
       "\n",
       "        location_Difficult angle on the right  location_Left side of the box  \\\n",
       "0                                           0                              1   \n",
       "11                                          0                              0   \n",
       "13                                          0                              1   \n",
       "14                                          0                              0   \n",
       "17                                          0                              0   \n",
       "...                                       ...                            ...   \n",
       "940983                                      0                              0   \n",
       "940991                                      0                              0   \n",
       "940992                                      0                              1   \n",
       "940993                                      0                              0   \n",
       "941006                                      0                              1   \n",
       "\n",
       "        location_Left side of the six yard box  location_Long range  \\\n",
       "0                                            0                    0   \n",
       "11                                           0                    0   \n",
       "13                                           0                    0   \n",
       "14                                           0                    0   \n",
       "17                                           0                    0   \n",
       "...                                        ...                  ...   \n",
       "940983                                       0                    0   \n",
       "940991                                       0                    0   \n",
       "940992                                       0                    0   \n",
       "940993                                       0                    0   \n",
       "941006                                       0                    0   \n",
       "\n",
       "        location_More than 35 yards  location_More than 40 yards  ...  \\\n",
       "0                                 0                            0  ...   \n",
       "11                                0                            0  ...   \n",
       "13                                0                            0  ...   \n",
       "14                                0                            0  ...   \n",
       "17                                0                            0  ...   \n",
       "...                             ...                          ...  ...   \n",
       "940983                            0                            0  ...   \n",
       "940991                            0                            0  ...   \n",
       "940992                            0                            0  ...   \n",
       "940993                            0                            0  ...   \n",
       "941006                            0                            0  ...   \n",
       "\n",
       "        location_Very close range  bodypart_left foot  bodypart_right foot  \\\n",
       "0                               0                   1                    0   \n",
       "11                              0                   0                    1   \n",
       "13                              0                   1                    0   \n",
       "14                              0                   0                    1   \n",
       "17                              0                   0                    1   \n",
       "...                           ...                 ...                  ...   \n",
       "940983                          0                   0                    1   \n",
       "940991                          0                   0                    1   \n",
       "940992                          0                   0                    1   \n",
       "940993                          0                   0                    1   \n",
       "941006                          0                   0                    1   \n",
       "\n",
       "        assist_method_Headed pass  assist_method_None  assist_method_Pass  \\\n",
       "0                               0                   0                   1   \n",
       "11                              0                   0                   1   \n",
       "13                              0                   0                   1   \n",
       "14                              0                   1                   0   \n",
       "17                              0                   1                   0   \n",
       "...                           ...                 ...                 ...   \n",
       "940983                          0                   1                   0   \n",
       "940991                          0                   0                   1   \n",
       "940992                          0                   0                   1   \n",
       "940993                          0                   0                   1   \n",
       "941006                          0                   0                   1   \n",
       "\n",
       "        assist_method_Through ball  situation_Free kick  situation_Open play  \\\n",
       "0                                0                    0                    1   \n",
       "11                               0                    0                    1   \n",
       "13                               0                    0                    1   \n",
       "14                               0                    0                    1   \n",
       "17                               0                    0                    1   \n",
       "...                            ...                  ...                  ...   \n",
       "940983                           0                    0                    1   \n",
       "940991                           0                    0                    1   \n",
       "940992                           0                    0                    1   \n",
       "940993                           0                    0                    1   \n",
       "941006                           0                    0                    0   \n",
       "\n",
       "        situation_Set piece  \n",
       "0                         0  \n",
       "11                        0  \n",
       "13                        0  \n",
       "14                        0  \n",
       "17                        0  \n",
       "...                     ...  \n",
       "940983                    0  \n",
       "940991                    0  \n",
       "940992                    0  \n",
       "940993                    0  \n",
       "941006                    0  \n",
       "\n",
       "[179607 rows x 25 columns]"
      ]
     },
     "execution_count": 1052,
     "metadata": {},
     "output_type": "execute_result"
    }
   ],
   "source": [
    "from sklearn.naive_bayes import GaussianNB\n",
    "from sklearn.naive_bayes import BernoulliNB\n",
    "\n",
    "#classifier\n",
    "gnb = GaussianNB()\n",
    "bnb = BernoulliNB()\n",
    "\n",
    "\n",
    "\n",
    "gauss_model = gnb.fit(train, train_labels)\n",
    "berno_model = bnb.fit(train, train_labels)\n",
    "X\n",
    "\n",
    "\n"
   ]
  },
  {
   "cell_type": "code",
   "execution_count": 1053,
   "metadata": {},
   "outputs": [],
   "source": [
    "results_gauss = gauss_model.predict_proba(test)\n",
    "results_berno = bnb.predict_proba(test)\n",
    " \n",
    "results_gauss, results_berno = results_gauss[:,1], results_berno[:,1]"
   ]
  },
  {
   "cell_type": "code",
   "execution_count": 1054,
   "metadata": {},
   "outputs": [
    {
     "name": "stdout",
     "output_type": "stream",
     "text": [
      "Best Threshold=0.002160, G-Mean=0.709\n"
     ]
    },
    {
     "data": {
      "image/png": "[encoded data removed]",
      "text/plain": [
       "<Figure size 432x288 with 1 Axes>"
      ]
     },
     "metadata": {
      "needs_background": "light"
     },
     "output_type": "display_data"
    }
   ],
   "source": [
    "from sklearn.metrics import accuracy_score \n",
    " \n",
    "from numpy import sqrt\n",
    "from numpy import argmax\n",
    " \n",
    "# print(accuracy_score(results_gauss , test_labels))\n",
    "# print(accuracy_score(results_berno , test_labels))\n",
    "\n",
    "\n",
    "# calculate roc curves\n",
    "fpr, tpr, thresholds = roc_curve(test_labels, results_gauss)\n",
    "# plot the roc curve for the model\n",
    "pyplot.plot([0, 1], [0, 1], linestyle='--', label='No Skill')\n",
    "pyplot.plot(fpr, tpr, marker='.', label='Logistic')\n",
    "# axis labels\n",
    "pyplot.xlabel('False Positive Rate')\n",
    "pyplot.ylabel('True Positive Rate')\n",
    "pyplot.legend()\n",
    "\n",
    "# calculate the g-mean for each threshold\n",
    "gmeans = sqrt(tpr * (1-fpr))\n",
    "# locate the index of the largest g-mean\n",
    "ix = argmax(gmeans)\n",
    "print('Best Threshold=%f, G-Mean=%.3f' % (thresholds[ix], gmeans[ix]))\n",
    "# plot the roc curve for the model\n",
    "pyplot.plot([0, 1], [0, 1], linestyle='--', label='No Skill')\n",
    "pyplot.plot(fpr, tpr, marker='.', label='Logistic')\n",
    "pyplot.scatter(fpr[ix], tpr[ix], marker=\"x\", color='blue', label='Best', s  = 1000)\n",
    "\n",
    "# show the plot\n",
    "pyplot.show()\n"
   ]
  },
  {
   "cell_type": "code",
   "execution_count": 1055,
   "metadata": {},
   "outputs": [
    {
     "name": "stdout",
     "output_type": "stream",
     "text": [
      "gaussNB results: ROC_AUC score:  0.758174774772985\n",
      "bernoNB results, ROC_AUC score:  0.7667764588180879\n"
     ]
    }
   ],
   "source": [
    "from sklearn.metrics import roc_curve, auc\n",
    "\n",
    "from sklearn.preprocessing import label_binarize\n",
    "from sklearn.multiclass import OneVsRestClassifier\n",
    "from sklearn.metrics import roc_auc_score\n",
    "\n",
    "\n",
    "print('gaussNB results: ROC_AUC score: ', roc_auc_score(y_true= test_labels, y_score = results_gauss))\n",
    "print('bernoNB results, ROC_AUC score: ', roc_auc_score(y_true=test_labels, y_score=results_berno))\n"
   ]
  },
  {
   "cell_type": "code",
   "execution_count": 1056,
   "metadata": {},
   "outputs": [
    {
     "data": {
      "image/png": "[encoded data removed]",
      "text/plain": [
       "<Figure size 432x288 with 1 Axes>"
      ]
     },
     "metadata": {
      "needs_background": "light"
     },
     "output_type": "display_data"
    },
    {
     "data": {
      "image/png": "[encoded data removed]",
      "text/plain": [
       "<Figure size 432x288 with 1 Axes>"
      ]
     },
     "metadata": {
      "needs_background": "light"
     },
     "output_type": "display_data"
    }
   ],
   "source": [
    "import matplotlib.pyplot as plt\n",
    "from sklearn.metrics import RocCurveDisplay\n",
    "RocCurveDisplay.from_predictions(test_labels, y_pred=results_gauss,)\n",
    "plt.show()\n",
    "RocCurveDisplay.from_predictions(test_labels, y_pred = results_berno)\n",
    "plt.show()\n",
    "\n"
   ]
  },
  {
   "cell_type": "code",
   "execution_count": 1057,
   "metadata": {},
   "outputs": [
    {
     "name": "stdout",
     "output_type": "stream",
     "text": [
      "              precision    recall  f1-score   support\n",
      "\n",
      "           0       0.92      0.97      0.94     53089\n",
      "           1       0.48      0.27      0.34      6182\n",
      "\n",
      "    accuracy                           0.89     59271\n",
      "   macro avg       0.70      0.62      0.64     59271\n",
      "weighted avg       0.87      0.89      0.88     59271\n",
      "\n"
     ]
    }
   ],
   "source": [
    "# from sklearn.metrics import confusion_matrix\n",
    "# print('Confusion matrix formatting: \\n  True Negative    False Positive \\n False Negative      True Positive') \n",
    "# print('gaussianNB confusion matrix:\\n ', confusion_matrix(test_labels, results_gauss))\n",
    "# print('BernouilliNB confusion matrix \\n', confusion_matrix(test_labels, results_berno))\n",
    "from sklearn.metrics import classification_report\n",
    "\n",
    "print(classification_report(test_labels, bnb.predict(test)))"
   ]
  },
  {
   "cell_type": "code",
   "execution_count": 1058,
   "metadata": {},
   "outputs": [
    {
     "data": {
      "image/png": "[encoded data removed]",
      "text/plain": [
       "<Figure size 432x288 with 1 Axes>"
      ]
     },
     "metadata": {
      "needs_background": "light"
     },
     "output_type": "display_data"
    }
   ],
   "source": [
    "from sklearn.model_selection import cross_val_score\n",
    "from sklearn.tree import DecisionTreeClassifier\n",
    "from sklearn.linear_model import LogisticRegression\n",
    "from sklearn.model_selection import train_test_split\n",
    "from sklearn.metrics import roc_curve\n",
    "from matplotlib import pyplot\n",
    "\n",
    "X.time = X.time/max(X.time)\n",
    "trainX, testX, trainy, testy = train_test_split(\n",
    "    X, y, test_size=0.5, random_state=2, stratify=y)\n",
    "# fit a model\n",
    "model = LogisticRegression(solver='saga', penalty='l1')\n",
    "model.fit(trainX, trainy)\n",
    "# predict probabilities\n",
    "yhat = model.predict_proba(testX)\n",
    "# keep probabilities for the positive outcome only\n",
    "yhat = yhat[:, 1]\n",
    "# calculate roc curves\n",
    "fpr, tpr, thresholds = roc_curve(testy, yhat)\n",
    "# plot the roc curve for the model\n",
    "pyplot.plot([0, 1], [0, 1], linestyle='--', label='No Skill')\n",
    "pyplot.plot(fpr, tpr, marker='.', label='Logistic')\n",
    "# axis labels\n",
    "pyplot.xlabel('False Positive Rate')\n",
    "pyplot.ylabel('True Positive Rate')\n",
    "pyplot.legend()\n",
    "# show the plot\n",
    "pyplot.show()\n",
    "\n"
   ]
  },
  {
   "cell_type": "markdown",
   "metadata": {},
   "source": [
    "random forest classifier: "
   ]
  },
  {
   "cell_type": "code",
   "execution_count": 1059,
   "metadata": {},
   "outputs": [
    {
     "data": {
      "text/plain": [
       "RandomForestClassifier(max_depth=2, random_state=0)"
      ]
     },
     "execution_count": 1059,
     "metadata": {},
     "output_type": "execute_result"
    }
   ],
   "source": [
    "from sklearn.ensemble import RandomForestClassifier\n",
    "from sklearn.datasets import make_classification\n",
    "\n",
    "forest = RandomForestClassifier(max_depth=2, random_state=0)\n",
    "forest.fit(X, y)\n",
    "\n"
   ]
  },
  {
   "cell_type": "markdown",
   "metadata": {},
   "source": [
    "Assessing precision - recall curve of the classifiers, using F-score"
   ]
  },
  {
   "cell_type": "code",
   "execution_count": 1060,
   "metadata": {},
   "outputs": [
    {
     "name": "stdout",
     "output_type": "stream",
     "text": [
      "assesing model:  <class 'sklearn.naive_bayes.GaussianNB'>\n",
      "Best Threshold=0.998538, F-Score=0.397\n"
     ]
    },
    {
     "name": "stderr",
     "output_type": "stream",
     "text": [
      "C:\\Users\\XHK\\anaconda3\\lib\\site-packages\\sklearn\\linear_model\\_sag.py:352: ConvergenceWarning: The max_iter was reached which means the coef_ did not converge\n",
      "  warnings.warn(\n"
     ]
    },
    {
     "data": {
      "image/png": "[encoded data removed]",
      "text/plain": [
       "<Figure size 432x288 with 1 Axes>"
      ]
     },
     "metadata": {
      "needs_background": "light"
     },
     "output_type": "display_data"
    },
    {
     "name": "stdout",
     "output_type": "stream",
     "text": [
      "assesing model:  <class 'sklearn.naive_bayes.BernoulliNB'>\n",
      "Best Threshold=0.262771, F-Score=0.396\n"
     ]
    },
    {
     "data": {
      "image/png": "[encoded data removed]",
      "text/plain": [
       "<Figure size 432x288 with 1 Axes>"
      ]
     },
     "metadata": {
      "needs_background": "light"
     },
     "output_type": "display_data"
    },
    {
     "name": "stdout",
     "output_type": "stream",
     "text": [
      "assesing model:  <class 'sklearn.linear_model._logistic.LogisticRegression'>\n",
      "Best Threshold=0.219003, F-Score=0.412\n"
     ]
    },
    {
     "data": {
      "image/png": "[encoded data removed]",
      "text/plain": [
       "<Figure size 432x288 with 1 Axes>"
      ]
     },
     "metadata": {
      "needs_background": "light"
     },
     "output_type": "display_data"
    },
    {
     "name": "stdout",
     "output_type": "stream",
     "text": [
      "assesing model:  <class 'sklearn.ensemble._forest.RandomForestClassifier'>\n",
      "Best Threshold=0.142351, F-Score=0.394\n"
     ]
    },
    {
     "data": {
      "image/png": "[encoded data removed]",
      "text/plain": [
       "<Figure size 432x288 with 1 Axes>"
      ]
     },
     "metadata": {
      "needs_background": "light"
     },
     "output_type": "display_data"
    }
   ],
   "source": [
    "\n",
    "from sklearn.datasets import make_classification\n",
    "from sklearn.linear_model import LogisticRegression\n",
    "from sklearn.model_selection import train_test_split\n",
    "from sklearn.metrics import precision_recall_curve\n",
    "from matplotlib import pyplot\n",
    "# generate dataset\n",
    "# X, y = make_classification(n_samples=10000, n_features=2, n_redundant=0,\n",
    "#                            n_clusters_per_class=1, weights=[0.99], flip_y=0, random_state=4)\n",
    "# split into train/test sets\n",
    "trainX, testX, trainy, testy = train, test, train_labels, test_labels\n",
    "# fit a model\n",
    "logis = LogisticRegression(solver='saga')\n",
    "logis.fit(trainX, trainy)\n",
    "\n",
    "def f_score(model, data = (trainX, testX, trainy, testy)):\n",
    "    print('assesing model: ', model.__class__)\n",
    "    trainX, testX, trainy, testy = data\n",
    "    # predict probabilities\n",
    "    yhat = model.predict_proba(testX)\n",
    "    # keep probabilities for the positive outcome only\n",
    "    yhat = yhat[:, 1]\n",
    "    # calculate roc curves\n",
    "    precision, recall, thresholds = precision_recall_curve(testy, yhat)\n",
    "    # convert to f score\n",
    "    fscore = (2 * precision * recall) / (precision + recall)\n",
    "    # locate the index of the largest f score\n",
    "    ix = argmax(fscore)\n",
    "    print('Best Threshold=%f, F-Score=%.3f' % (thresholds[ix], fscore[ix]))\n",
    "    # plot the roc curve for the model\n",
    "    no_skill = len(testy[testy == 1]) / len(testy)\n",
    "    pyplot.plot([0, 1], [no_skill, no_skill], linestyle='--', label='No Skill')\n",
    "    pyplot.plot(recall, precision, marker='.', label=model.__class__)\n",
    "    pyplot.scatter(recall[ix], precision[ix], marker='x',\n",
    "                color='black', label='Best',s = 1000)\n",
    "    # axis labels\n",
    "    pyplot.xlabel('Recall')\n",
    "    pyplot.ylabel('Precision')\n",
    "    pyplot.legend()\n",
    "    # show the plot\n",
    "    pyplot.show()\n",
    "models = [gnb, bnb, logis, forest]\n",
    "for model in models:\n",
    "    f_score(model)\n",
    "    \n",
    "\n"
   ]
  },
  {
   "cell_type": "markdown",
   "metadata": {},
   "source": [
    "LogisticRegression model has highest F1-score. At a threshold of 0.219 (i.e. something is classified as a 'goal' if predicted probability of not being a goal is lower than 0.219)"
   ]
  },
  {
   "cell_type": "code",
   "execution_count": 1061,
   "metadata": {},
   "outputs": [
    {
     "name": "stdout",
     "output_type": "stream",
     "text": [
      "assesing model:  <class 'sklearn.naive_bayes.GaussianNB'>\n",
      "Best Threshold=0.998549, F-Score=0.391\n"
     ]
    },
    {
     "data": {
      "image/png": "[encoded data removed]",
      "text/plain": [
       "<Figure size 432x288 with 1 Axes>"
      ]
     },
     "metadata": {
      "needs_background": "light"
     },
     "output_type": "display_data"
    },
    {
     "name": "stdout",
     "output_type": "stream",
     "text": [
      "assesing model:  <class 'sklearn.naive_bayes.BernoulliNB'>\n",
      "Best Threshold=0.262835, F-Score=0.385\n"
     ]
    },
    {
     "data": {
      "image/png": "[encoded data removed]",
      "text/plain": [
       "<Figure size 432x288 with 1 Axes>"
      ]
     },
     "metadata": {
      "needs_background": "light"
     },
     "output_type": "display_data"
    },
    {
     "name": "stdout",
     "output_type": "stream",
     "text": [
      "assesing model:  <class 'sklearn.linear_model._logistic.LogisticRegression'>\n",
      "Best Threshold=0.191364, F-Score=0.404\n"
     ]
    },
    {
     "data": {
      "image/png": "[encoded data removed]",
      "text/plain": [
       "<Figure size 432x288 with 1 Axes>"
      ]
     },
     "metadata": {
      "needs_background": "light"
     },
     "output_type": "display_data"
    },
    {
     "name": "stdout",
     "output_type": "stream",
     "text": [
      "assesing model:  <class 'sklearn.ensemble._forest.RandomForestClassifier'>\n",
      "Best Threshold=0.139821, F-Score=0.376\n"
     ]
    },
    {
     "data": {
      "image/png": "[encoded data removed]",
      "text/plain": [
       "<Figure size 432x288 with 1 Axes>"
      ]
     },
     "metadata": {
      "needs_background": "light"
     },
     "output_type": "display_data"
    }
   ],
   "source": [
    "for model in models:\n",
    "    f_score(model, data= (trainX, X_fr, trainy, y_fr))\n"
   ]
  },
  {
   "cell_type": "code",
   "execution_count": 1062,
   "metadata": {},
   "outputs": [],
   "source": [
    "# X_fr.iloc[argmax(bnb.predict_proba(X_fr)[:,1])]\n",
    "# top20 = np.argpartition(bnb.predict_proba(X_fr)[:, 1], -20)[-20:]\n",
    "\n",
    "# french_events.iloc[top20]\n"
   ]
  },
  {
   "cell_type": "markdown",
   "metadata": {},
   "source": [
    "Conclusion: \n",
    "\n",
    "we can use the Bernoulli classifier to weight the goal-attempts, to get a new 'weighted_attempts' feature. \n"
   ]
  },
  {
   "cell_type": "code",
   "execution_count": 1063,
   "metadata": {},
   "outputs": [],
   "source": [
    "attempt_weighter = bnb\n",
    "\n",
    "french_events['french_attempt_weight'] =attempt_weighter.predict_proba(X_fr)[:,1]\n"
   ]
  },
  {
   "cell_type": "code",
   "execution_count": 1064,
   "metadata": {},
   "outputs": [
    {
     "data": {
      "text/plain": [
       "{'alpha': 1.0, 'binarize': 0.0, 'class_prior': None, 'fit_prior': True}"
      ]
     },
     "execution_count": 1064,
     "metadata": {},
     "output_type": "execute_result"
    }
   ],
   "source": [
    "#plt.hist(french_events[french_events.is_goal == 1]['french_attempt_weight'].values, bins =50)\n",
    "bnb.get_params()"
   ]
  },
  {
   "cell_type": "code",
   "execution_count": 1065,
   "metadata": {},
   "outputs": [],
   "source": [
    "event_final = pd.concat([events_original, french_events['french_attempt_weight'.split()]], axis = 'columns')\n",
    "\n",
    "event_final.to_csv('events_w_weighted_french.csv')\n",
    "\n"
   ]
  },
  {
   "cell_type": "code",
   "execution_count": 1066,
   "metadata": {},
   "outputs": [],
   "source": [
    "#[i for i in zip(bnb.coef_[0, :], X_fr.columns.values)]\n"
   ]
  },
  {
   "cell_type": "code",
   "execution_count": 1068,
   "metadata": {},
   "outputs": [
    {
     "name": "stdout",
     "output_type": "stream",
     "text": [
      "Optimization terminated successfully    (Exit mode 0)\n",
      "            Current function value: 0.2648740709873043\n",
      "            Iterations: 217\n",
      "            Function evaluations: 217\n",
      "            Gradient evaluations: 217\n"
     ]
    }
   ],
   "source": [
    "import statsmodels\n",
    "import statsmodels.formula.api as smf\n",
    "import cvxopt\n",
    "\n",
    "X.columns  = [''.join(j) for j in [i.split() for i in X.columns]]   #removes stpaces\n",
    " \n",
    "\n",
    "Xtrain, Xtest, ytrain, ytest = train_test_split(\n",
    "    X, y, test_size=0.33, random_state=20)\n",
    "\n",
    "data = pd.concat([Xtrain,ytrain], axis = 'columns')\n",
    "test_data = pd.concat([Xtest, ytest], axis='columns')\n",
    "\n",
    "\n",
    "log_reg = smf.logit('is_goal ~ ' + '+'.join(Xtrain.columns.values),\n",
    "                    data=data).fit_regularized(method='l1')  # .fit(cov_type=\"hc1\")\n",
    "#log_reg\n",
    "\n",
    "\n"
   ]
  },
  {
   "cell_type": "code",
   "execution_count": 1074,
   "metadata": {},
   "outputs": [
    {
     "data": {
      "text/plain": [
       "0.41077030324154756"
      ]
     },
     "execution_count": 1074,
     "metadata": {},
     "output_type": "execute_result"
    }
   ],
   "source": [
    "# Xtrain, Xtest, ytrain, ytest = train_test_split(\n",
    "#     X, y, test_size=0.33, random_state=20)\n",
    "\n",
    "# '+'.join(Xtrain.columns.values)\n",
    "\n",
    "\n",
    "from sklearn.metrics import f1_score\n",
    "#print(log_reg.summary())\n",
    "y_pred = (log_reg.predict(Xtest) >0.20)\n",
    "\n",
    "f1_score(ytest,y_pred)"
   ]
  }
 ],
 "metadata": {
  "interpreter": {
   "hash": "9d49a995e02e5c12d4aea286f1be347287d020919acd83fc9c32cf543e5b414b"
  },
  "kernelspec": {
   "display_name": "Python 3.8.5 ('base')",
   "language": "python",
   "name": "python3"
  },
  "language_info": {
   "codemirror_mode": {
    "name": "ipython",
    "version": 3
   },
   "file_extension": ".py",
   "mimetype": "text/x-python",
   "name": "python",
   "nbconvert_exporter": "python",
   "pygments_lexer": "ipython3",
   "version": "3.8.5"
  },
  "orig_nbformat": 4
 },
 "nbformat": 4,
 "nbformat_minor": 2
}
