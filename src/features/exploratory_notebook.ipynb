{
 "cells": [
  {
   "cell_type": "code",
   "execution_count": 782,
   "metadata": {},
   "outputs": [
    {
     "name": "stdout",
     "output_type": "stream",
     "text": [
      "Getting dictionaries to analyse events.csv\n"
     ]
    }
   ],
   "source": [
    "\n",
    "import os\n",
    "import sys\n",
    "import pandas as pd\n",
    "import numpy as np\n",
    "import create_dicts\n",
    "\n",
    "\n",
    "code_path = os.getcwd()\n",
    "data_path = \"C:/Users/XHK/Desktop/thesis_code/events_analysis/data/raw/kaggle\"\n",
    "\n",
    "event_type1, event_type2, side, shot_place, shot_outcome, location, \\\n",
    "    bodypart, assist_method, situation = create_dicts.get_dictionaries()\n",
    "\n",
    "events = pd.read_csv('/'.join([data_path, \"events_w_weighted_french.csv\"]))\n",
    "ginf = pd.read_csv('/'.join([data_path, \"ginf.csv\"]))\n",
    "\n",
    "events_columns = ['id_odsp', 'id_event', 'sort_order', 'time', 'text', 'event_type',\n",
    "                  'event_type2', 'side', 'event_team', 'opponent', 'player', 'player2',\n",
    "                  'player_in', 'player_out', 'shot_place', 'shot_outcome', 'is_goal',\n",
    "                  'location', 'bodypart', 'assist_method', 'situation', 'fast_break']\n",
    "\n",
    "ginf_columns = ['id_odsp', 'link_odsp', 'adv_stats', 'date', 'league', 'season',\n",
    "                'country', 'ht', 'at', 'fthg', 'ftag', 'odd_h', 'odd_d', 'odd_a',\n",
    "                'odd_over', 'odd_under', 'odd_bts', 'odd_bts_n'] \n"
   ]
  },
  {
   "cell_type": "markdown",
   "metadata": {},
   "source": [
    "Some code to determine which league is best to start analysing: \n",
    "\n",
    "the variable ginf is a DataFrame created from a .csv which stores general info about each match in the 'events' dataset\n",
    "\n",
    "We want detailed match-data, which means the match must have adv_stats == True"
   ]
  },
  {
   "cell_type": "code",
   "execution_count": 783,
   "metadata": {},
   "outputs": [
    {
     "data": {
      "text/html": [
       "<div>\n",
       "<style scoped>\n",
       "    .dataframe tbody tr th:only-of-type {\n",
       "        vertical-align: middle;\n",
       "    }\n",
       "\n",
       "    .dataframe tbody tr th {\n",
       "        vertical-align: top;\n",
       "    }\n",
       "\n",
       "    .dataframe thead th {\n",
       "        text-align: right;\n",
       "    }\n",
       "</style>\n",
       "<table border=\"1\" class=\"dataframe\">\n",
       "  <thead>\n",
       "    <tr style=\"text-align: right;\">\n",
       "      <th></th>\n",
       "      <th></th>\n",
       "      <th>id_odsp</th>\n",
       "      <th>link_odsp</th>\n",
       "      <th>date</th>\n",
       "      <th>season</th>\n",
       "      <th>country</th>\n",
       "      <th>ht</th>\n",
       "      <th>at</th>\n",
       "      <th>fthg</th>\n",
       "      <th>ftag</th>\n",
       "      <th>odd_h</th>\n",
       "      <th>odd_d</th>\n",
       "      <th>odd_a</th>\n",
       "      <th>odd_over</th>\n",
       "      <th>odd_under</th>\n",
       "      <th>odd_bts</th>\n",
       "      <th>odd_bts_n</th>\n",
       "    </tr>\n",
       "    <tr>\n",
       "      <th>adv_stats</th>\n",
       "      <th>league</th>\n",
       "      <th></th>\n",
       "      <th></th>\n",
       "      <th></th>\n",
       "      <th></th>\n",
       "      <th></th>\n",
       "      <th></th>\n",
       "      <th></th>\n",
       "      <th></th>\n",
       "      <th></th>\n",
       "      <th></th>\n",
       "      <th></th>\n",
       "      <th></th>\n",
       "      <th></th>\n",
       "      <th></th>\n",
       "      <th></th>\n",
       "      <th></th>\n",
       "    </tr>\n",
       "  </thead>\n",
       "  <tbody>\n",
       "    <tr>\n",
       "      <th rowspan=\"5\" valign=\"top\">False</th>\n",
       "      <th>D1</th>\n",
       "      <td>49</td>\n",
       "      <td>49</td>\n",
       "      <td>49</td>\n",
       "      <td>49</td>\n",
       "      <td>49</td>\n",
       "      <td>49</td>\n",
       "      <td>49</td>\n",
       "      <td>49</td>\n",
       "      <td>49</td>\n",
       "      <td>49</td>\n",
       "      <td>49</td>\n",
       "      <td>49</td>\n",
       "      <td>0</td>\n",
       "      <td>0</td>\n",
       "      <td>0</td>\n",
       "      <td>0</td>\n",
       "    </tr>\n",
       "    <tr>\n",
       "      <th>E0</th>\n",
       "      <td>820</td>\n",
       "      <td>820</td>\n",
       "      <td>820</td>\n",
       "      <td>820</td>\n",
       "      <td>820</td>\n",
       "      <td>820</td>\n",
       "      <td>820</td>\n",
       "      <td>820</td>\n",
       "      <td>820</td>\n",
       "      <td>820</td>\n",
       "      <td>820</td>\n",
       "      <td>820</td>\n",
       "      <td>0</td>\n",
       "      <td>0</td>\n",
       "      <td>0</td>\n",
       "      <td>0</td>\n",
       "    </tr>\n",
       "    <tr>\n",
       "      <th>F1</th>\n",
       "      <td>19</td>\n",
       "      <td>19</td>\n",
       "      <td>19</td>\n",
       "      <td>19</td>\n",
       "      <td>19</td>\n",
       "      <td>19</td>\n",
       "      <td>19</td>\n",
       "      <td>19</td>\n",
       "      <td>19</td>\n",
       "      <td>19</td>\n",
       "      <td>19</td>\n",
       "      <td>19</td>\n",
       "      <td>0</td>\n",
       "      <td>0</td>\n",
       "      <td>0</td>\n",
       "      <td>0</td>\n",
       "    </tr>\n",
       "    <tr>\n",
       "      <th>I1</th>\n",
       "      <td>18</td>\n",
       "      <td>18</td>\n",
       "      <td>18</td>\n",
       "      <td>18</td>\n",
       "      <td>18</td>\n",
       "      <td>18</td>\n",
       "      <td>18</td>\n",
       "      <td>18</td>\n",
       "      <td>18</td>\n",
       "      <td>18</td>\n",
       "      <td>18</td>\n",
       "      <td>18</td>\n",
       "      <td>0</td>\n",
       "      <td>0</td>\n",
       "      <td>0</td>\n",
       "      <td>0</td>\n",
       "    </tr>\n",
       "    <tr>\n",
       "      <th>SP1</th>\n",
       "      <td>24</td>\n",
       "      <td>24</td>\n",
       "      <td>24</td>\n",
       "      <td>24</td>\n",
       "      <td>24</td>\n",
       "      <td>24</td>\n",
       "      <td>24</td>\n",
       "      <td>24</td>\n",
       "      <td>24</td>\n",
       "      <td>24</td>\n",
       "      <td>24</td>\n",
       "      <td>24</td>\n",
       "      <td>0</td>\n",
       "      <td>0</td>\n",
       "      <td>0</td>\n",
       "      <td>0</td>\n",
       "    </tr>\n",
       "    <tr>\n",
       "      <th rowspan=\"5\" valign=\"top\">True</th>\n",
       "      <th>D1</th>\n",
       "      <td>1641</td>\n",
       "      <td>1641</td>\n",
       "      <td>1641</td>\n",
       "      <td>1641</td>\n",
       "      <td>1641</td>\n",
       "      <td>1641</td>\n",
       "      <td>1641</td>\n",
       "      <td>1641</td>\n",
       "      <td>1641</td>\n",
       "      <td>1641</td>\n",
       "      <td>1641</td>\n",
       "      <td>1641</td>\n",
       "      <td>153</td>\n",
       "      <td>153</td>\n",
       "      <td>153</td>\n",
       "      <td>153</td>\n",
       "    </tr>\n",
       "    <tr>\n",
       "      <th>E0</th>\n",
       "      <td>1300</td>\n",
       "      <td>1300</td>\n",
       "      <td>1300</td>\n",
       "      <td>1300</td>\n",
       "      <td>1300</td>\n",
       "      <td>1300</td>\n",
       "      <td>1300</td>\n",
       "      <td>1300</td>\n",
       "      <td>1300</td>\n",
       "      <td>1300</td>\n",
       "      <td>1300</td>\n",
       "      <td>1300</td>\n",
       "      <td>220</td>\n",
       "      <td>220</td>\n",
       "      <td>220</td>\n",
       "      <td>220</td>\n",
       "    </tr>\n",
       "    <tr>\n",
       "      <th>F1</th>\n",
       "      <td>2088</td>\n",
       "      <td>2088</td>\n",
       "      <td>2088</td>\n",
       "      <td>2088</td>\n",
       "      <td>2088</td>\n",
       "      <td>2088</td>\n",
       "      <td>2088</td>\n",
       "      <td>2088</td>\n",
       "      <td>2088</td>\n",
       "      <td>2088</td>\n",
       "      <td>2088</td>\n",
       "      <td>2088</td>\n",
       "      <td>208</td>\n",
       "      <td>208</td>\n",
       "      <td>208</td>\n",
       "      <td>208</td>\n",
       "    </tr>\n",
       "    <tr>\n",
       "      <th>I1</th>\n",
       "      <td>2088</td>\n",
       "      <td>2088</td>\n",
       "      <td>2088</td>\n",
       "      <td>2088</td>\n",
       "      <td>2088</td>\n",
       "      <td>2088</td>\n",
       "      <td>2088</td>\n",
       "      <td>2088</td>\n",
       "      <td>2088</td>\n",
       "      <td>2088</td>\n",
       "      <td>2088</td>\n",
       "      <td>2088</td>\n",
       "      <td>207</td>\n",
       "      <td>207</td>\n",
       "      <td>207</td>\n",
       "      <td>207</td>\n",
       "    </tr>\n",
       "    <tr>\n",
       "      <th>SP1</th>\n",
       "      <td>2065</td>\n",
       "      <td>2065</td>\n",
       "      <td>2065</td>\n",
       "      <td>2065</td>\n",
       "      <td>2065</td>\n",
       "      <td>2065</td>\n",
       "      <td>2065</td>\n",
       "      <td>2065</td>\n",
       "      <td>2065</td>\n",
       "      <td>2065</td>\n",
       "      <td>2065</td>\n",
       "      <td>2065</td>\n",
       "      <td>189</td>\n",
       "      <td>189</td>\n",
       "      <td>189</td>\n",
       "      <td>189</td>\n",
       "    </tr>\n",
       "  </tbody>\n",
       "</table>\n",
       "</div>"
      ],
      "text/plain": [
       "                  id_odsp  link_odsp  date  season  country    ht    at  fthg  \\\n",
       "adv_stats league                                                                \n",
       "False     D1           49         49    49      49       49    49    49    49   \n",
       "          E0          820        820   820     820      820   820   820   820   \n",
       "          F1           19         19    19      19       19    19    19    19   \n",
       "          I1           18         18    18      18       18    18    18    18   \n",
       "          SP1          24         24    24      24       24    24    24    24   \n",
       "True      D1         1641       1641  1641    1641     1641  1641  1641  1641   \n",
       "          E0         1300       1300  1300    1300     1300  1300  1300  1300   \n",
       "          F1         2088       2088  2088    2088     2088  2088  2088  2088   \n",
       "          I1         2088       2088  2088    2088     2088  2088  2088  2088   \n",
       "          SP1        2065       2065  2065    2065     2065  2065  2065  2065   \n",
       "\n",
       "                  ftag  odd_h  odd_d  odd_a  odd_over  odd_under  odd_bts  \\\n",
       "adv_stats league                                                            \n",
       "False     D1        49     49     49     49         0          0        0   \n",
       "          E0       820    820    820    820         0          0        0   \n",
       "          F1        19     19     19     19         0          0        0   \n",
       "          I1        18     18     18     18         0          0        0   \n",
       "          SP1       24     24     24     24         0          0        0   \n",
       "True      D1      1641   1641   1641   1641       153        153      153   \n",
       "          E0      1300   1300   1300   1300       220        220      220   \n",
       "          F1      2088   2088   2088   2088       208        208      208   \n",
       "          I1      2088   2088   2088   2088       207        207      207   \n",
       "          SP1     2065   2065   2065   2065       189        189      189   \n",
       "\n",
       "                  odd_bts_n  \n",
       "adv_stats league             \n",
       "False     D1              0  \n",
       "          E0              0  \n",
       "          F1              0  \n",
       "          I1              0  \n",
       "          SP1             0  \n",
       "True      D1            153  \n",
       "          E0            220  \n",
       "          F1            208  \n",
       "          I1            207  \n",
       "          SP1           189  "
      ]
     },
     "execution_count": 783,
     "metadata": {},
     "output_type": "execute_result"
    }
   ],
   "source": [
    "ginf.groupby(['adv_stats', 'league']).count()\n"
   ]
  },
  {
   "cell_type": "markdown",
   "metadata": {},
   "source": [
    "France and Italy have the most matches with available events-data in the dataset. \n",
    "We pick the French league arbitrarily, moving forward.\n",
    "\n",
    "first we want to have a column for home-goal-attempts and away-goal-attempts and add it to ginf. \n",
    "attempt has an event_type of 1"
   ]
  },
  {
   "cell_type": "code",
   "execution_count": 784,
   "metadata": {},
   "outputs": [],
   "source": [
    "matches_no_stats_fr = ginf[(ginf.league == 'F1') & (ginf.adv_stats == False)]\n",
    "\n",
    "matches_fr = ginf[(ginf.adv_stats == True) & (ginf.league == 'F1')]\n",
    "events_fr = events.loc[events.id_odsp.isin(matches_fr.id_odsp)]\n",
    "\n"
   ]
  },
  {
   "cell_type": "markdown",
   "metadata": {},
   "source": [
    "number of attempts by either team. own-goals are ignored."
   ]
  },
  {
   "cell_type": "markdown",
   "metadata": {},
   "source": [
    "We add the amount of attempts on goal by the home-team and by the away-team. \n",
    "There are around 12 NaN's in those columns. We will deal with them by using the average amount of attempts of the corresponding teams:"
   ]
  },
  {
   "cell_type": "code",
   "execution_count": 785,
   "metadata": {},
   "outputs": [],
   "source": [
    "\n",
    "#matches_fr['home_attempts'] = np.nan\n",
    "#matches_fr['away_attempts'] = np.nan\n",
    "\n",
    "h_att = events_fr[(events_fr.event_type == 1) & (\n",
    "        events_fr.side == 1) &(event_type2 != 15)].groupby('id_odsp').count()\n",
    "\n",
    "a_att = events_fr[(events_fr.event_type == 1) & (\n",
    "    events_fr.side == 2) & (event_type2 != 15)].groupby('id_odsp').count()\n",
    "\n"
   ]
  },
  {
   "cell_type": "code",
   "execution_count": 786,
   "metadata": {},
   "outputs": [],
   "source": [
    "matches_fr.index = matches_fr.id_odsp\n",
    "matches_fr = pd.concat([matches_fr,h_att.event_type],   axis = 1)\n",
    "matches_fr = matches_fr.rename({'event_type':'home_attempts' }, axis='columns')\n",
    "matches_fr = pd.concat([matches_fr,a_att.event_type],   axis = 1)\n",
    "matches_fr = matches_fr.rename({'event_type':'away_attempts'}, axis='columns')\n",
    "\n",
    "#matches_fr.head()\n",
    "\n"
   ]
  },
  {
   "cell_type": "code",
   "execution_count": null,
   "metadata": {},
   "outputs": [],
   "source": [
    "\n"
   ]
  },
  {
   "cell_type": "markdown",
   "metadata": {},
   "source": [
    "replacing NaNs  in Home_- and Away_attempts  with the average over all games (this causes minor information-leak from future values to past values, but only around 19 NaNs in the dataset)"
   ]
  },
  {
   "cell_type": "code",
   "execution_count": 787,
   "metadata": {},
   "outputs": [],
   "source": [
    "home_nans = matches_fr[matches_fr.home_attempts.isna()]['ht']\n",
    "away_nans = matches_fr[matches_fr.away_attempts.isna()]['at']\n",
    "\n",
    "\n",
    "# homers = home_nans.values\n",
    "# for team in homers:\n",
    "#     matches_fr[matches_fr.ht == team].home_attempts.mean()\n",
    "#home_nans\n",
    "\n",
    "for game_id,team in home_nans.iteritems():\n",
    "    mean_att = matches_fr[matches_fr.ht == team].home_attempts.mean()\n",
    "    matches_fr.loc[matches_fr.id_odsp == game_id, 'home_attempts'] = mean_att\n",
    "for game_id, team in away_nans.iteritems():\n",
    "    mean_att = matches_fr[matches_fr['at'] == team].away_attempts.mean()\n",
    "    matches_fr.loc[matches_fr.id_odsp == game_id, 'away_attempts'] = mean_att\n"
   ]
  },
  {
   "cell_type": "code",
   "execution_count": null,
   "metadata": {},
   "outputs": [],
   "source": []
  },
  {
   "cell_type": "markdown",
   "metadata": {},
   "source": [
    "We proceed by getting the amount of red card events:\n",
    "In the events.csv, 'location'\n",
    "\n",
    "First we define a helper function:  "
   ]
  },
  {
   "cell_type": "code",
   "execution_count": 788,
   "metadata": {},
   "outputs": [
    {
     "name": "stdout",
     "output_type": "stream",
     "text": [
      "replacing 1953 NaNs by 0 for event =  redcard\n"
     ]
    }
   ],
   "source": [
    "def get_events(events, event_type_nr, type=1 ):\n",
    "    event_type = 'event_type'\n",
    "    if type != 1:\n",
    "        event_type= 'event_type2'\n",
    "    h_events = events[(events[event_type] == event_type_nr) & (\n",
    "        events.side == 1)].groupby('id_odsp').count()\n",
    "\n",
    "\n",
    "    a_events = events[(events[event_type] == event_type_nr) & (\n",
    "        events.side == 2)].groupby('id_odsp').count()\n",
    "\n",
    "    return h_events, a_events\n",
    "\n",
    "def concat_and_rename(df_matches, home_vec, away_vec, name, type = 1):\n",
    "    event_type = 'event_type'\n",
    "    if type != 1:\n",
    "        event_type = 'event_type2'\n",
    "\n",
    "    home_name = 'home_'+name\n",
    "    away_name = 'away_'+name \n",
    "    df_matches.index = df_matches.id_odsp\n",
    "\n",
    "    df_matches = pd.concat([df_matches, home_vec[event_type]],   axis=1)\n",
    "    df_matches = df_matches.rename({event_type: home_name}, axis='columns')\n",
    "    df_matches = pd.concat([df_matches, away_vec[event_type]],   axis=1)\n",
    "    df_matches = df_matches.rename({event_type: away_name}, axis='columns')\n",
    "\n",
    "    # changing nans to zeroes:\n",
    "    if\n",
    "    print(f\"replacing {sum(df_matches[home_name].isna())} NaNs by {int(df_matches[home_name].fillna(0).mean())} for event =  {name}\")\n",
    "    df_matches.loc[df_matches[home_name].isna(), home_name] = int(\n",
    "        df_matches[home_name].fillna(0).mean())\n",
    "    df_matches.loc[df_matches[away_name].isna(), away_name] = int(\n",
    "        df_matches[away_name].fillna(0).mean())\n",
    "    return df_matches\n",
    "\n",
    "home_redcard,away_redcard = get_events(events_fr, 6)\n",
    "matches_fr = concat_and_rename(matches_fr, home_redcard, away_redcard, name = 'redcard')\n"
   ]
  },
  {
   "cell_type": "markdown",
   "metadata": {},
   "source": [
    "changing all the NaN's to 0 red_card values: "
   ]
  },
  {
   "cell_type": "markdown",
   "metadata": {},
   "source": [
    "Adding the 'conceded penalty' feature:       penalty_conceded has eventnumber 11"
   ]
  },
  {
   "cell_type": "code",
   "execution_count": 789,
   "metadata": {},
   "outputs": [
    {
     "name": "stdout",
     "output_type": "stream",
     "text": [
      "replacing 1953 NaNs by 0 for event =  penalty_conceded\n"
     ]
    }
   ],
   "source": [
    "home_penalty_conceded, away_penalty_conceded = get_events(events_fr, 11)\n",
    "matches_fr = concat_and_rename(    matches_fr, home_redcard, away_redcard, name='penalty_conceded')\n",
    "\n"
   ]
  },
  {
   "cell_type": "code",
   "execution_count": 790,
   "metadata": {},
   "outputs": [
    {
     "data": {
      "text/plain": [
       "0"
      ]
     },
     "execution_count": 790,
     "metadata": {},
     "output_type": "execute_result"
    }
   ],
   "source": [
    "sum(matches_fr.home_redcard.isna())"
   ]
  },
  {
   "cell_type": "markdown",
   "metadata": {},
   "source": [
    "adding columns for a home_sentoff and away_sentoff features"
   ]
  },
  {
   "cell_type": "code",
   "execution_count": 791,
   "metadata": {},
   "outputs": [
    {
     "name": "stdout",
     "output_type": "stream",
     "text": [
      "replacing 1886 NaNs by 0 for event =  sentoff\n"
     ]
    }
   ],
   "source": [
    "home_sent, away_sent = get_events(events_fr, 14, type=2)\n",
    "matches_fr = concat_and_rename(    matches_fr, home_sent, away_sent, name='sentoff')\n"
   ]
  },
  {
   "cell_type": "markdown",
   "metadata": {},
   "source": [
    "adding corner_conceded features for both teams.   Corners conceded is lower for away team???"
   ]
  },
  {
   "cell_type": "code",
   "execution_count": 792,
   "metadata": {},
   "outputs": [
    {
     "name": "stdout",
     "output_type": "stream",
     "text": [
      "replacing 38 NaNs by 5 for event =  corners_taken\n"
     ]
    }
   ],
   "source": [
    "home_corner, away_corner = get_events(events_fr, 2, type = 1)\n",
    "matches_fr = concat_and_rename(\n",
    "    matches_fr, home_corner, away_corner, name='corners_taken')\n"
   ]
  },
  {
   "cell_type": "markdown",
   "metadata": {},
   "source": [
    "fouls"
   ]
  },
  {
   "cell_type": "code",
   "execution_count": 793,
   "metadata": {},
   "outputs": [
    {
     "name": "stdout",
     "output_type": "stream",
     "text": [
      "replacing 14 NaNs by 12 for event =  fouls\n"
     ]
    }
   ],
   "source": [
    "home_fouls, away_fouls = get_events(events_fr, 3, type=1)\n",
    "matches_fr = concat_and_rename(    matches_fr, home_fouls, away_fouls, name='fouls')\n"
   ]
  },
  {
   "cell_type": "code",
   "execution_count": 794,
   "metadata": {},
   "outputs": [
    {
     "name": "stdout",
     "output_type": "stream",
     "text": [
      "replacing 14 NaNs by 13 for event =  free_kicks\n"
     ]
    }
   ],
   "source": [
    "home_free_kicks, away_free_kicks = get_events(events_fr, 8 ,type=1 )\n",
    "matches_fr = concat_and_rename(matches_fr, home_free_kicks, away_free_kicks, name = 'free_kicks')"
   ]
  },
  {
   "cell_type": "code",
   "execution_count": 795,
   "metadata": {},
   "outputs": [
    {
     "name": "stdout",
     "output_type": "stream",
     "text": [
      "replacing 1063 NaNs by 0 for event =  handballs\n"
     ]
    }
   ],
   "source": [
    "home_handballs, away_handballs = get_events(events_fr, 10)\n",
    "matches_fr = concat_and_rename(matches_fr, home_handballs, away_handballs, name = 'handballs')"
   ]
  },
  {
   "cell_type": "code",
   "execution_count": 796,
   "metadata": {},
   "outputs": [
    {
     "name": "stdout",
     "output_type": "stream",
     "text": [
      "replacing 292 NaNs by 2 for event =  offsides\n"
     ]
    }
   ],
   "source": [
    "home_offsides, away_offsides = get_events(events_fr, 9)\n",
    "matches_fr = concat_and_rename(\n",
    "    matches_fr, home_offsides, away_offsides, name='offsides')\n"
   ]
  },
  {
   "cell_type": "code",
   "execution_count": 797,
   "metadata": {},
   "outputs": [
    {
     "name": "stdout",
     "output_type": "stream",
     "text": [
      "replacing 1993 NaNs by 0 for event =  own_goal\n"
     ]
    }
   ],
   "source": [
    "away_own_goal, home_own_goal  = get_events(events_fr, 15, type = 2)  #away, home switched around because an own_goal commited by home team, is credited to the 'side'-variable of away_team\n",
    "matches_fr = concat_and_rename(\n",
    "    matches_fr, away_own_goal, home_own_goal, name='own_goal')\n"
   ]
  },
  {
   "cell_type": "markdown",
   "metadata": {},
   "source": [
    "[] Use shot-placement, location and isGoal to determine a weighting for attempts\n",
    "    [use logistic-regression]\n",
    "[] Make a weighted-attempts feature"
   ]
  },
  {
   "cell_type": "code",
   "execution_count": 798,
   "metadata": {},
   "outputs": [],
   "source": [
    "#all the French attempt-events that did not end in own-goals \n",
    "french_attempt_events = events[(events.id_odsp.isin(matches_fr.id_odsp)) & (events.event_type ==1) & (events.event_type2 !=15)]\n",
    "french_attempt_events.groupby('id_odsp side'.split()).sum()\n",
    "\n",
    "home_weighted_attempts = french_attempt_events[french_attempt_events.side == 1].groupby(\n",
    "    'id_odsp').sum().french_attempt_weight\n",
    "\n",
    "away_weighted_attempts = french_attempt_events[french_attempt_events.side == 2].groupby('id_odsp').sum().french_attempt_weight\n",
    "\n",
    "matches_fr = pd.concat([matches_fr, home_weighted_attempts],   axis=1)\n",
    "matches_fr = matches_fr.rename(\n",
    "    {'french_attempt_weight': 'home_weighted_attempts'}, axis='columns')\n",
    "matches_fr = pd.concat([matches_fr, away_weighted_attempts],   axis=1)\n",
    "matches_fr = matches_fr.rename(\n",
    "    {'french_attempt_weight': 'away_weighted_attempts'}, axis='columns')\n",
    "\n",
    "# changing nans to zeroes:\n",
    "# matches_fr.loc[matches_fr[home_name].isna(), home_name] = 0\n",
    "# matches_fr.loc[matches_fr[away_name].isna(), away_name] = 0\n"
   ]
  },
  {
   "cell_type": "markdown",
   "metadata": {},
   "source": [
    "Possession-proxy features: \n",
    "\n",
    "events that get or need possession to occur: \n",
    "attempt, offside, corner, freekick, passing\n",
    "\n",
    "events that are negatively associated with possession: \n",
    "foul, red card, yellow card, andball, penalty"
   ]
  },
  {
   "cell_type": "markdown",
   "metadata": {},
   "source": [
    "Pass and assists analysis according to DSAA paper:\n",
    "\n",
    "[1. DONE ] total assist-volume: assist-methods 1,2,3,4              proxy for omega    (passing volume)\n",
    "[2. ] mean players passing volume (incl. substitutes)               mu_p  \n",
    "[3. ] variance of players passing volume                            sigma_p \n"
   ]
  },
  {
   "cell_type": "code",
   "execution_count": 799,
   "metadata": {},
   "outputs": [],
   "source": [
    "# TOTAL ASSIST VOLUME PER MATCH\n",
    "\n",
    "total_assists_home = events_fr[(events_fr['assist_method'] != 0) & (\n",
    "    events_fr.side == 1)].groupby('id_odsp').count().assist_method\n",
    "\n",
    "total_assists_away = events_fr[(events_fr['assist_method'] != 0) & (\n",
    "    events_fr.side == 2)].groupby('id_odsp').count().assist_method\n",
    "\n",
    "matches_fr = pd.concat([matches_fr, total_assists_home],   axis=1)\n",
    "matches_fr = matches_fr.rename(\n",
    "     {'assist_method': 'total_assists_home'}, axis='columns')\n",
    "matches_fr = pd.concat([matches_fr, total_assists_away],   axis=1)\n",
    "matches_fr = matches_fr.rename(\n",
    "     {'assist_method': 'total_assists_away'}, axis='columns')\n",
    "\n",
    "matches_fr.loc[matches_fr.total_assists_home.isna(), 'total_assists_home'] = 0\n",
    "#sum(matches_fr.total_assists_away.isna())\n",
    "matches_fr.loc[matches_fr.total_assists_away.isna(), 'total_assists_away'] = 0\n",
    "# sum(matches_fr.total_assists_away.isna())\n"
   ]
  },
  {
   "cell_type": "markdown",
   "metadata": {},
   "source": [
    "Fixing the NaNs in weighted_attempts by replacing them with the respective teams' mean weighted_attempts"
   ]
  },
  {
   "cell_type": "code",
   "execution_count": 800,
   "metadata": {},
   "outputs": [],
   "source": [
    "matches_fr.isna().sum()\n",
    "\n",
    "home_nans = matches_fr[matches_fr.home_weighted_attempts.isna()]['ht']\n",
    "away_nans = matches_fr[matches_fr.away_weighted_attempts.isna()]['at']\n",
    "\n",
    "\n",
    "# homers = home_nans.values\n",
    "# for team in homers:\n",
    "#     matches_fr[matches_fr.ht == team].home_attempts.mean()\n",
    "#home_nans\n",
    "\n",
    "for game_id, team in home_nans.iteritems():\n",
    "    mean_att = matches_fr[matches_fr.ht == team].home_weighted_attempts.mean()\n",
    "    matches_fr.loc[matches_fr.id_odsp == game_id, 'home_weighted_attempts'] = mean_att\n",
    "for game_id, team in away_nans.iteritems():\n",
    "    mean_att = matches_fr[matches_fr['at'] == team].away_weighted_attempts.mean()\n",
    "    matches_fr.loc[matches_fr.id_odsp == game_id, 'away_weighted_attempts'] = mean_att\n"
   ]
  },
  {
   "cell_type": "markdown",
   "metadata": {},
   "source": [
    "mean_assists "
   ]
  },
  {
   "cell_type": "code",
   "execution_count": null,
   "metadata": {},
   "outputs": [],
   "source": []
  },
  {
   "cell_type": "code",
   "execution_count": 801,
   "metadata": {},
   "outputs": [],
   "source": [
    "# home_mean_assists = total_assists_home.copy()/11\n",
    "# away_mean_assists = total_assists_away.copy()/11"
   ]
  },
  {
   "cell_type": "code",
   "execution_count": 802,
   "metadata": {},
   "outputs": [
    {
     "data": {
      "text/html": [
       "<div>\n",
       "<style scoped>\n",
       "    .dataframe tbody tr th:only-of-type {\n",
       "        vertical-align: middle;\n",
       "    }\n",
       "\n",
       "    .dataframe tbody tr th {\n",
       "        vertical-align: top;\n",
       "    }\n",
       "\n",
       "    .dataframe thead th {\n",
       "        text-align: right;\n",
       "    }\n",
       "</style>\n",
       "<table border=\"1\" class=\"dataframe\">\n",
       "  <thead>\n",
       "    <tr style=\"text-align: right;\">\n",
       "      <th></th>\n",
       "      <th>home_assist_stds</th>\n",
       "    </tr>\n",
       "    <tr>\n",
       "      <th>id_odsp</th>\n",
       "      <th></th>\n",
       "    </tr>\n",
       "  </thead>\n",
       "  <tbody>\n",
       "    <tr>\n",
       "      <th>00OX4xFp/</th>\n",
       "      <td>0.500000</td>\n",
       "    </tr>\n",
       "    <tr>\n",
       "      <th>00QH2XdM/</th>\n",
       "      <td>0.894427</td>\n",
       "    </tr>\n",
       "    <tr>\n",
       "      <th>00nmICd9/</th>\n",
       "      <td>0.816497</td>\n",
       "    </tr>\n",
       "    <tr>\n",
       "      <th>00o3l4Ui/</th>\n",
       "      <td>1.691482</td>\n",
       "    </tr>\n",
       "    <tr>\n",
       "      <th>02Tk5DSs/</th>\n",
       "      <td>1.414214</td>\n",
       "    </tr>\n",
       "    <tr>\n",
       "      <th>...</th>\n",
       "      <td>...</td>\n",
       "    </tr>\n",
       "    <tr>\n",
       "      <th>zwHQ9EyO/</th>\n",
       "      <td>0.462910</td>\n",
       "    </tr>\n",
       "    <tr>\n",
       "      <th>zwapuIs1/</th>\n",
       "      <td>0.951190</td>\n",
       "    </tr>\n",
       "    <tr>\n",
       "      <th>zwg8Qk7J/</th>\n",
       "      <td>0.707107</td>\n",
       "    </tr>\n",
       "    <tr>\n",
       "      <th>zwhjOjUB/</th>\n",
       "      <td>0.951190</td>\n",
       "    </tr>\n",
       "    <tr>\n",
       "      <th>zwyvizbA/</th>\n",
       "      <td>0.786796</td>\n",
       "    </tr>\n",
       "  </tbody>\n",
       "</table>\n",
       "<p>2076 rows × 1 columns</p>\n",
       "</div>"
      ],
      "text/plain": [
       "           home_assist_stds\n",
       "id_odsp                    \n",
       "00OX4xFp/          0.500000\n",
       "00QH2XdM/          0.894427\n",
       "00nmICd9/          0.816497\n",
       "00o3l4Ui/          1.691482\n",
       "02Tk5DSs/          1.414214\n",
       "...                     ...\n",
       "zwHQ9EyO/          0.462910\n",
       "zwapuIs1/          0.951190\n",
       "zwg8Qk7J/          0.707107\n",
       "zwhjOjUB/          0.951190\n",
       "zwyvizbA/          0.786796\n",
       "\n",
       "[2076 rows x 1 columns]"
      ]
     },
     "execution_count": 802,
     "metadata": {},
     "output_type": "execute_result"
    }
   ],
   "source": [
    "\n",
    "home_assist_stds = pd.DataFrame(events_fr[(events_fr['assist_method'] != 0) & (events_fr['side'] == 1)].groupby(\n",
    "    'id_odsp event_team player2 '.split()).apply(lambda x: x.assist_method.count()).groupby('id_odsp').std())\n",
    "home_assist_stds.columns = ['home_assist_stds']\n",
    "home_assist_stds\n"
   ]
  },
  {
   "cell_type": "code",
   "execution_count": 803,
   "metadata": {},
   "outputs": [],
   "source": [
    "home_assist_stds = pd.DataFrame(events_fr[(events_fr['assist_method'] != 0) & (events_fr['side'] == 1)].groupby(\n",
    "    'id_odsp event_team player2 '.split()).apply(lambda x: x.assist_method.count()).groupby('id_odsp').std())\n",
    "home_assist_stds.columns = ['home_assist_stds']\n",
    "\n",
    "away_assist_stds = pd.DataFrame(events_fr[(events_fr['assist_method'] != 0) & (events_fr['side'] == 2)].groupby(\n",
    "    'id_odsp event_team player2 '.split()).apply(lambda x: x.assist_method.count()).groupby('id_odsp').std())\n",
    "away_assist_stds.columns = ['away_assist_stds']\n",
    "\n",
    "matches_fr = pd.concat([matches_fr, home_assist_stds],   axis=1)\n",
    "matches_fr = matches_fr.rename(\n",
    "    {'assist_method': 'home_assist_stds'}, axis='columns')\n",
    "matches_fr = pd.concat([matches_fr, away_assist_stds],   axis=1)\n",
    "matches_fr = matches_fr.rename(\n",
    "    {'assist_method': 'away_assist_stds'}, axis='columns')\n",
    "\n",
    "# # changing nans to zeroes:\n",
    "matches_fr.loc[matches_fr['home_assist_stds'].isna(), 'home_assist_stds'] = 0\n",
    "matches_fr.loc[matches_fr['away_assist_stds'].isna(), 'away_assist_stds'] = 0\n"
   ]
  },
  {
   "cell_type": "code",
   "execution_count": null,
   "metadata": {},
   "outputs": [],
   "source": []
  }
 ],
 "metadata": {
  "interpreter": {
   "hash": "9d49a995e02e5c12d4aea286f1be347287d020919acd83fc9c32cf543e5b414b"
  },
  "kernelspec": {
   "display_name": "Python 3.8.5 ('base')",
   "language": "python",
   "name": "python3"
  },
  "language_info": {
   "codemirror_mode": {
    "name": "ipython",
    "version": 3
   },
   "file_extension": ".py",
   "mimetype": "text/x-python",
   "name": "python",
   "nbconvert_exporter": "python",
   "pygments_lexer": "ipython3",
   "version": "3.8.5"
  },
  "orig_nbformat": 4
 },
 "nbformat": 4,
 "nbformat_minor": 2
}
