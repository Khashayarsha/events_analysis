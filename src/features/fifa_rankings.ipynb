{
 "cells": [
  {
   "cell_type": "code",
   "execution_count": null,
   "metadata": {},
   "outputs": [],
   "source": [
    "import numpy as np\n",
    "import pandas as pd\n",
    "import pickle as pkl\n",
    "import matplotlib.pyplot as plt\n",
    "import os\n",
    "import sys\n",
    "\n",
    "\n",
    "#get the latest matches data\n",
    "\n",
    "cur_dir = os.getcwd()\n",
    "\n",
    "\n",
    "def load_data(data_name):\n",
    "    df = pd.read_csv(data_name)\n",
    "    print(f\"loaded {data_name} succesfully\")\n",
    "    return df\n",
    "\n",
    "\n",
    "data_path = '../../data/raw/papardello/'\n",
    "\n",
    "matches = load_data('matches_fr_labeled360554.csv')\n",
    "teams = pd.read_json(data_path+'teams.json')\n",
    "players = pd.read_json(data_path+'players.json')\n",
    "print('all dataframes loaded succesfully ')\n",
    "\n",
    "teams_in_matches = set(matches['ht at'.split()].values.flatten())\n"
   ]
  }
 ],
 "metadata": {
  "language_info": {
   "name": "python"
  },
  "orig_nbformat": 4
 },
 "nbformat": 4,
 "nbformat_minor": 2
}
